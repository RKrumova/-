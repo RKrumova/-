{
  "nbformat": 4,
  "nbformat_minor": 0,
  "metadata": {
    "colab": {
      "provenance": []
    },
    "kernelspec": {
      "name": "python3",
      "display_name": "Python 3"
    },
    "language_info": {
      "name": "python"
    }
  },
  "cells": [
    {
      "cell_type": "code",
      "execution_count": 1,
      "metadata": {
        "id": "xKmcmLtLaGf0"
      },
      "outputs": [],
      "source": [
        "#imports\n",
        "import pandas as pd\n",
        "import numpy as np\n",
        "import sklearn\n",
        "import ssl\n",
        "from sklearn.linear_model import LogisticRegression\n",
        "from sklearn.ensemble import RandomForestClassifier\n",
        "from sklearn.preprocessing import StandardScaler\n",
        "from sklearn.preprocessing import LabelEncoder\n",
        "from sklearn.model_selection import train_test_split\n",
        "import ssl\n",
        "ssl._create_default_https_context = ssl._create_unverified_context\n",
        "train_url = \"https://ml.monov.eu/coffee/train_data.csv\"\n",
        "test_url = \"https://ml.monov.eu/coffee/test_data.csv\"\n"
      ]
    },
    {
      "cell_type": "code",
      "source": [
        "\n",
        "train_data = pd.read_csv(train_url)\n",
        "test_data = pd.read_csv(test_url)\n",
        "\n",
        "train_data.isnull().sum()\n",
        "#\n",
        "train_data.dropna(inplace=True)\n",
        "# turning Altitude from string to numeric\n",
        "train_data['Altitude'] = pd.to_numeric(train_data['Altitude'], errors='coerce')\n",
        "train_data['Altitude'].fillna(train_data['Altitude'].mean(), inplace=True)\n",
        "# fill altitude\n",
        "train_data['Altitude'].fillna(train_data['Altitude'].mean(), inplace=True)\n",
        "\n",
        "# fix for harvest\n",
        "train_data['Harvest.Year.Start'] = train_data['Harvest.Year'].str.split(' / ').str[0]\n",
        "train_data['Harvest.Year.End'] = train_data['Harvest.Year'].str.split(' / ').str[1]\n",
        "train_data['Harvest.Year.Start'] = pd.to_numeric(train_data['Harvest.Year.Start'], errors='coerce')\n",
        "train_data['Harvest.Year.End'] = pd.to_numeric(train_data['Harvest.Year.End'], errors='coerce')\n",
        "# fill the missing data\n",
        "train_data['Harvest.Year.Start'].fillna(train_data['Harvest.Year.Start'].median(), inplace=True)\n",
        "train_data['Harvest.Year.End'].fillna(train_data['Harvest.Year.End'].median(), inplace=True)\n",
        "train_data['Farm.Name'].fillna('Unknown', inplace=True)\n",
        "train_data['Mill'].fillna('Unknown', inplace=True)\n",
        "train_data['Owner'].fillna(train_data['Owner'].mode()[0], inplace=True)\n",
        "train_data['Processing.Method'].fillna(train_data['Processing.Method'].mode()[0], inplace=True)\n",
        "train_data.isnull().sum()\n",
        "\n"
      ],
      "metadata": {
        "colab": {
          "base_uri": "https://localhost:8080/"
        },
        "id": "nnFjf14PRQoI",
        "outputId": "905965fe-6ef6-46da-a822-d2c0e9e9e2e4"
      },
      "execution_count": 2,
      "outputs": [
        {
          "output_type": "execute_result",
          "data": {
            "text/plain": [
              "Id                       0\n",
              "Species                  0\n",
              "Owner                    0\n",
              "Country.of.Origin        0\n",
              "Farm.Name                0\n",
              "Lot.Number               0\n",
              "Mill                     0\n",
              "ICO.Number               0\n",
              "Company                  0\n",
              "Altitude                 0\n",
              "Region                   0\n",
              "Producer                 0\n",
              "Number.of.Bags           0\n",
              "Bag.Weight               0\n",
              "In.Country.Partner       0\n",
              "Harvest.Year             0\n",
              "Grading.Date             0\n",
              "Owner.1                  0\n",
              "Variety                  0\n",
              "Processing.Method        0\n",
              "Coffee.Quality           0\n",
              "Moisture                 0\n",
              "Category.One.Defects     0\n",
              "Quakers                  0\n",
              "Color                    0\n",
              "Category.Two.Defects     0\n",
              "Expiration               0\n",
              "Certification.Body       0\n",
              "Certification.Address    0\n",
              "Certification.Contact    0\n",
              "unit_of_measurement      0\n",
              "altitude_low_meters      0\n",
              "altitude_high_meters     0\n",
              "altitude_mean_meters     0\n",
              "Harvest.Year.Start       0\n",
              "Harvest.Year.End         0\n",
              "dtype: int64"
            ]
          },
          "metadata": {},
          "execution_count": 2
        }
      ]
    },
    {
      "cell_type": "code",
      "source": [
        "test_data.isnull().sum()\n",
        "test_data.dropna(inplace=True)\n",
        "test_data['Altitude'].fillna(test_data['Altitude'].mean(), inplace=True)\n",
        "test_data['Region'].replace({'InconsistentValue': 'CorrectValue'}, inplace=True)\n",
        "test_data.isnull().sum()\n"
      ],
      "metadata": {
        "colab": {
          "base_uri": "https://localhost:8080/"
        },
        "id": "rNLjmLYRo3tO",
        "outputId": "6c8f2d65-07ec-4d48-8fbb-e834acfb31be"
      },
      "execution_count": 3,
      "outputs": [
        {
          "output_type": "execute_result",
          "data": {
            "text/plain": [
              "Id                       0\n",
              "Species                  0\n",
              "Owner                    0\n",
              "Country.of.Origin        0\n",
              "Farm.Name                0\n",
              "Lot.Number               0\n",
              "Mill                     0\n",
              "ICO.Number               0\n",
              "Company                  0\n",
              "Altitude                 0\n",
              "Region                   0\n",
              "Producer                 0\n",
              "Number.of.Bags           0\n",
              "Bag.Weight               0\n",
              "In.Country.Partner       0\n",
              "Harvest.Year             0\n",
              "Grading.Date             0\n",
              "Owner.1                  0\n",
              "Variety                  0\n",
              "Processing.Method        0\n",
              "Moisture                 0\n",
              "Category.One.Defects     0\n",
              "Quakers                  0\n",
              "Color                    0\n",
              "Category.Two.Defects     0\n",
              "Expiration               0\n",
              "Certification.Body       0\n",
              "Certification.Address    0\n",
              "Certification.Contact    0\n",
              "unit_of_measurement      0\n",
              "altitude_low_meters      0\n",
              "altitude_high_meters     0\n",
              "altitude_mean_meters     0\n",
              "dtype: int64"
            ]
          },
          "metadata": {},
          "execution_count": 3
        }
      ]
    },
    {
      "cell_type": "code",
      "source": [
        "columnsToDrop = [\"Id\",\"Lot.Number\",\"ICO.Number\",\"Number.of.Bags\",\"Bag.Weight\",\"In.Country.Partner\",\"Grading.Date\",\"Owner.1\",\"Quakers\",\"Expiration\",\"Certification.Address\",\"Certification.Contact\",\"unit_of_measurement\"]\n",
        "train_data.drop(columnsToDrop, axis=1, inplace=True)\n",
        "test_data.drop(columnsToDrop, axis=1, inplace=True)"
      ],
      "metadata": {
        "id": "wjCnqseNmn6i"
      },
      "execution_count": 4,
      "outputs": []
    },
    {
      "cell_type": "code",
      "source": [
        "unnecessary_features = ['altitude_low_meters', 'altitude_high_meters', 'altitude_mean_meters']\n",
        "unnecessary_features2 = ['Harvest.Year.End', 'Harvest.Year.Start']\n",
        "train_data.drop(columns=unnecessary_features, inplace=True)\n",
        "train_data.drop(columns=unnecessary_features2, inplace=True)\n",
        "test_data.drop(columns=unnecessary_features, inplace=True)\n",
        "x_train = train_data.drop(columns=['Coffee.Quality'])\n",
        "y_train = train_data['Coffee.Quality']"
      ],
      "metadata": {
        "id": "cqXixahZkNyN"
      },
      "execution_count": 5,
      "outputs": []
    },
    {
      "cell_type": "code",
      "source": [
        "from sklearn.preprocessing import StandardScaler\n",
        "scaler = StandardScaler()\n",
        "numeric_features = x_train.select_dtypes(include=['int64', 'float64']).columns\n",
        "x_train[numeric_features] = scaler.fit_transform(x_train[numeric_features])\n"
      ],
      "metadata": {
        "id": "mugSIvh76HQe"
      },
      "execution_count": 6,
      "outputs": []
    },
    {
      "cell_type": "code",
      "source": [
        "non_numeric_features = x_train.dtypes[x_train.dtypes == 'object'].index\n",
        "encoder = LabelEncoder()\n",
        "for feature in non_numeric_features:\n",
        "    x_train[feature] = encoder.fit_transform(x_train[feature])\n",
        "for feature in non_numeric_features:\n",
        "    test_data[feature] = encoder.fit_transform(test_data[feature])\n",
        "x = x_train\n",
        "y = y_train\n",
        "x_train = x_train.fillna(0)\n",
        "test_data = test_data.fillna(0)\n",
        "X_train, X_test, y_train, y_test = train_test_split(x_train, y_train, test_size=0.20, random_state=42)\n"
      ],
      "metadata": {
        "id": "Y1m9Sq3ko0cC"
      },
      "execution_count": 7,
      "outputs": []
    },
    {
      "cell_type": "code",
      "source": [
        "from sklearn.linear_model import LogisticRegression\n",
        "from sklearn.svm import SVC\n",
        "from sklearn.tree import DecisionTreeClassifier\n",
        "from sklearn.ensemble import RandomForestClassifier, GradientBoostingClassifier\n",
        "from sklearn.metrics import accuracy_score\n",
        "\n",
        "models = {\n",
        "    \"Logistic Regression\": LogisticRegression(),\n",
        "    \"SVM\": SVC(),\n",
        "    \"Decision Tree\": DecisionTreeClassifier(),\n",
        "    \"Random Forest\": RandomForestClassifier(),\n",
        "    \"Boosting Classifier\": GradientBoostingClassifier()\n",
        "}\n",
        "\n",
        "\n"
      ],
      "metadata": {
        "id": "dVXAFQHfQcEk"
      },
      "execution_count": 8,
      "outputs": []
    },
    {
      "cell_type": "code",
      "source": [
        "results = {}\n",
        "for model_name, model in models.items():\n",
        "    model.fit(X_train, y_train)\n",
        "    y_pred = model.predict(X_test)\n",
        "    accuracy = accuracy_score(y_test, y_pred)\n",
        "    results[model_name] = accuracy\n",
        "\n"
      ],
      "metadata": {
        "colab": {
          "base_uri": "https://localhost:8080/"
        },
        "id": "ZQ6nRyEqpuva",
        "outputId": "c5c43c3f-8ed0-496d-dd36-29cc439b1cd1"
      },
      "execution_count": 9,
      "outputs": [
        {
          "output_type": "stream",
          "name": "stderr",
          "text": [
            "/usr/local/lib/python3.10/dist-packages/sklearn/linear_model/_logistic.py:458: ConvergenceWarning: lbfgs failed to converge (status=1):\n",
            "STOP: TOTAL NO. of ITERATIONS REACHED LIMIT.\n",
            "\n",
            "Increase the number of iterations (max_iter) or scale the data as shown in:\n",
            "    https://scikit-learn.org/stable/modules/preprocessing.html\n",
            "Please also refer to the documentation for alternative solver options:\n",
            "    https://scikit-learn.org/stable/modules/linear_model.html#logistic-regression\n",
            "  n_iter_i = _check_optimize_result(\n"
          ]
        }
      ]
    },
    {
      "cell_type": "code",
      "source": [
        "results_df = pd.DataFrame.from_dict(results, orient=\"index\", columns=[\"Accuracy\"])\n",
        "best_model_name = max(results, key=results.get)\n",
        "best_model = models[best_model_name]\n",
        "best_model.fit(x, y)\n",
        "test_predictions = best_model.predict(test_data)"
      ],
      "metadata": {
        "colab": {
          "base_uri": "https://localhost:8080/"
        },
        "id": "fsoRM1khsYi6",
        "outputId": "c1515231-d087-4d1d-fdf5-5df2fcee835e"
      },
      "execution_count": 14,
      "outputs": [
        {
          "output_type": "stream",
          "name": "stderr",
          "text": [
            "/usr/local/lib/python3.10/dist-packages/sklearn/linear_model/_logistic.py:458: ConvergenceWarning: lbfgs failed to converge (status=1):\n",
            "STOP: TOTAL NO. of ITERATIONS REACHED LIMIT.\n",
            "\n",
            "Increase the number of iterations (max_iter) or scale the data as shown in:\n",
            "    https://scikit-learn.org/stable/modules/preprocessing.html\n",
            "Please also refer to the documentation for alternative solver options:\n",
            "    https://scikit-learn.org/stable/modules/linear_model.html#logistic-regression\n",
            "  n_iter_i = _check_optimize_result(\n"
          ]
        }
      ]
    },
    {
      "cell_type": "code",
      "source": [
        "results_dict = {\"Model\": list(results.keys()), \"Accuracy\": list(results.values())}\n",
        "results_dict[\"Coffee.Quality\"] = test_predictions\n",
        "import csv\n",
        "with open(\"result.csv\", \"w\", newline=\"\") as csvfile:\n",
        "    writer = csv.DictWriter(csvfile, fieldnames=results_dict.keys())\n",
        "    writer.writeheader()\n",
        "    writer.writerow(results_dict)"
      ],
      "metadata": {
        "id": "INXxqn5CtYIa"
      },
      "execution_count": 23,
      "outputs": []
    }
  ]
}